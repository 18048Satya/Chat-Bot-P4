{
 "cells": [
  {
   "cell_type": "raw",
   "metadata": {
    "vscode": {
     "languageId": "raw"
    }
   },
   "source": [
    "Now let’s start with creating an end-to-end chatbot using Python. I’ll start this task by importing the necessary Python libraries for this task:"
   ]
  },
  {
   "cell_type": "code",
   "execution_count": 12,
   "metadata": {},
   "outputs": [
    {
     "name": "stderr",
     "output_type": "stream",
     "text": [
      "[nltk_data] Downloading package punkt to\n",
      "[nltk_data]     C:\\Users\\ABC\\AppData\\Roaming\\nltk_data...\n",
      "[nltk_data]   Package punkt is already up-to-date!\n",
      "[nltk_data] Downloading package stopwords to\n",
      "[nltk_data]     C:\\Users\\ABC\\AppData\\Roaming\\nltk_data...\n",
      "[nltk_data]   Package stopwords is already up-to-date!\n"
     ]
    },
    {
     "data": {
      "text/plain": [
       "True"
      ]
     },
     "execution_count": 12,
     "metadata": {},
     "output_type": "execute_result"
    }
   ],
   "source": [
    "import os\n",
    "import json\n",
    "import datetime\n",
    "import csv\n",
    "import streamlit as st\n",
    "import random\n",
    "from sklearn.feature_extraction.text import TfidfVectorizer\n",
    "from sklearn.ensemble import RandomForestClassifier\n",
    "import nltk\n",
    "from nltk.corpus import stopwords\n",
    "from nltk.tokenize import word_tokenize\n",
    "\n",
    "nltk.download('punkt')\n",
    "nltk.download('stopwords')\n"
   ]
  },
  {
   "cell_type": "raw",
   "metadata": {
    "vscode": {
     "languageId": "raw"
    }
   },
   "source": [
    " Define file paths"
   ]
  },
  {
   "cell_type": "code",
   "execution_count": 13,
   "metadata": {},
   "outputs": [],
   "source": [
    "INTENTS_FILE = 'intents.json'\n",
    "CSV_FILE = 'conversation_history.csv'"
   ]
  },
  {
   "cell_type": "raw",
   "metadata": {
    "vscode": {
     "languageId": "raw"
    }
   },
   "source": [
    "Load intents from the JSON file"
   ]
  },
  {
   "cell_type": "code",
   "execution_count": 14,
   "metadata": {},
   "outputs": [],
   "source": [
    "def load_intents():\n",
    "    with open(INTENTS_FILE, 'r') as file:\n",
    "        return json.load(file)"
   ]
  },
  {
   "cell_type": "raw",
   "metadata": {
    "vscode": {
     "languageId": "raw"
    }
   },
   "source": [
    " Preprocess text using NLTK"
   ]
  },
  {
   "cell_type": "code",
   "execution_count": 15,
   "metadata": {},
   "outputs": [],
   "source": [
    "def preprocess_text(text):\n",
    "    stop_words = set(stopwords.words('english'))\n",
    "    tokens = word_tokenize(text.lower())  \n",
    "    filtered_tokens = [word for word in tokens if word.isalnum() and word not in stop_words]\n",
    "    return ' '.join(filtered_tokens)"
   ]
  },
  {
   "cell_type": "raw",
   "metadata": {
    "vscode": {
     "languageId": "raw"
    }
   },
   "source": [
    "Load conversation history from the CSV file"
   ]
  },
  {
   "cell_type": "code",
   "execution_count": 16,
   "metadata": {},
   "outputs": [],
   "source": [
    "def load_history():\n",
    "    history = []\n",
    "    if os.path.exists(CSV_FILE):\n",
    "        with open(CSV_FILE, mode='r') as file:\n",
    "            reader = csv.DictReader(file)\n",
    "            for row in reader:\n",
    "                history.append(row)\n",
    "    return history"
   ]
  },
  {
   "cell_type": "raw",
   "metadata": {
    "vscode": {
     "languageId": "raw"
    }
   },
   "source": [
    " Save conversation to the CSV file"
   ]
  },
  {
   "cell_type": "code",
   "execution_count": 17,
   "metadata": {},
   "outputs": [],
   "source": [
    "def save_conversation(timestamp, user_message, bot_response):\n",
    "    file_exists = os.path.exists(CSV_FILE)\n",
    "    with open(CSV_FILE, mode='a', newline='') as file:\n",
    "        writer = csv.DictWriter(file, fieldnames=['timestamp', 'user_message', 'bot_response'])\n",
    "        if not file_exists:\n",
    "            writer.writeheader()  # Write header if file is new\n",
    "        writer.writerow({\n",
    "            'timestamp': timestamp,\n",
    "            'user_message': user_message,\n",
    "            'bot_response': bot_response\n",
    "        })"
   ]
  },
  {
   "cell_type": "raw",
   "metadata": {
    "vscode": {
     "languageId": "raw"
    }
   },
   "source": [
    "Train and Prepare the chatbot model"
   ]
  },
  {
   "cell_type": "code",
   "execution_count": 18,
   "metadata": {},
   "outputs": [],
   "source": [
    "def train_model():\n",
    "    intents = load_intents()\n",
    "    training_sentences = []\n",
    "    training_labels = []\n",
    "    responses = {}\n",
    "\n",
    "    # Prepare training data\n",
    "    for intent in intents['intents']:\n",
    "        for pattern in intent['patterns']:\n",
    "            processed_pattern = preprocess_text(pattern)\n",
    "            training_sentences.append(processed_pattern)\n",
    "            training_labels.append(intent['tag'])\n",
    "        responses[intent['tag']] = intent['responses']\n",
    "\n",
    "    # Train model using TfidfVectorizer and RandomForestClassifier\n",
    "    \n",
    "    vectorizer = TfidfVectorizer(ngram_range=(1, 4))\n",
    "    X = vectorizer.fit_transform(training_sentences)\n",
    "    model = RandomForestClassifier(n_estimators=100, random_state=42)\n",
    "    model.fit(X, training_labels)\n",
    "\n",
    "    return model, vectorizer, responses"
   ]
  },
  {
   "cell_type": "raw",
   "metadata": {
    "vscode": {
     "languageId": "raw"
    }
   },
   "source": [
    "Predict the response based on user input"
   ]
  },
  {
   "cell_type": "code",
   "execution_count": 19,
   "metadata": {},
   "outputs": [],
   "source": [
    "def get_response(user_message, model, vectorizer, responses):\n",
    "    processed_message = preprocess_text(user_message)\n",
    "    input_vector = vectorizer.transform([processed_message])\n",
    "    intent = model.predict(input_vector)[0]\n",
    "    return random.choice(responses[intent])"
   ]
  },
  {
   "cell_type": "raw",
   "metadata": {
    "vscode": {
     "languageId": "raw"
    }
   },
   "source": [
    "Creating Home , About and History pages "
   ]
  },
  {
   "cell_type": "code",
   "execution_count": 20,
   "metadata": {},
   "outputs": [],
   "source": [
    "# Home page\n",
    "def home_page():\n",
    "    st.title(\"Welcome to the Chat App\")\n",
    "    st.write(\"This is an interactive chatbot app where you can communicate with an AI bot.\")\n",
    "    st.write(\"Navigate to different pages using the sidebar.\")\n",
    "\n",
    "# About page\n",
    "def about_page():\n",
    "    st.title(\"About the Chat App\")\n",
    "    st.write(\"\"\"\n",
    "    This chatbot uses intents stored in a JSON file to predict user queries and respond accordingly.\n",
    "    Conversations are logged and displayed in the 'History' page. The app is powered by Streamlit,\n",
    "    scikit-learn, and NLTK for natural language processing.\n",
    "    \"\"\")\n",
    "\n",
    "# History page\n",
    "def history_page():\n",
    "    st.title(\"Conversation History\")\n",
    "    history = load_history()\n",
    "    if history:\n",
    "        for entry in history:\n",
    "            st.write(f\"**[{entry['timestamp']}] User:** {entry['user_message']}\")\n",
    "            st.write(f\"**[{entry['timestamp']}] Bot:** {entry['bot_response']}\")\n",
    "    else:\n",
    "        st.write(\"No conversation history found.\")"
   ]
  },
  {
   "cell_type": "raw",
   "metadata": {
    "vscode": {
     "languageId": "raw"
    }
   },
   "source": [
    "Chat functionality"
   ]
  },
  {
   "cell_type": "code",
   "execution_count": 21,
   "metadata": {},
   "outputs": [],
   "source": [
    "def chat_page(model, vectorizer, responses):\n",
    "    st.title(\"Chat Bot Using Basic Intents\")\n",
    "    user_message = st.text_input(\"You: \")\n",
    "    if user_message:\n",
    "        bot_response = get_response(user_message, model, vectorizer, responses)\n",
    "        timestamp = datetime.datetime.now().strftime('%Y-%m-%d %H:%M:%S')\n",
    "        save_conversation(timestamp, user_message, bot_response)\n",
    "        st.write(f\"**Bot:** {bot_response}\")"
   ]
  },
  {
   "cell_type": "raw",
   "metadata": {
    "vscode": {
     "languageId": "raw"
    }
   },
   "source": [
    " Main app logic"
   ]
  },
  {
   "cell_type": "code",
   "execution_count": 22,
   "metadata": {},
   "outputs": [
    {
     "name": "stderr",
     "output_type": "stream",
     "text": [
      "2024-12-07 12:03:35.449 Thread 'MainThread': missing ScriptRunContext! This warning can be ignored when running in bare mode.\n",
      "2024-12-07 12:03:35.450 Thread 'MainThread': missing ScriptRunContext! This warning can be ignored when running in bare mode.\n",
      "2024-12-07 12:03:35.451 `label` got an empty value. This is discouraged for accessibility reasons and may be disallowed in the future by raising an exception. Please provide a non-empty label and hide it with label_visibility if needed.\n",
      "2024-12-07 12:03:35.453 Thread 'MainThread': missing ScriptRunContext! This warning can be ignored when running in bare mode.\n",
      "2024-12-07 12:03:35.455 Thread 'MainThread': missing ScriptRunContext! This warning can be ignored when running in bare mode.\n",
      "2024-12-07 12:03:35.456 Thread 'MainThread': missing ScriptRunContext! This warning can be ignored when running in bare mode.\n",
      "2024-12-07 12:03:35.458 Thread 'MainThread': missing ScriptRunContext! This warning can be ignored when running in bare mode.\n",
      "2024-12-07 12:03:35.694 Thread 'MainThread': missing ScriptRunContext! This warning can be ignored when running in bare mode.\n",
      "2024-12-07 12:03:35.695 Thread 'MainThread': missing ScriptRunContext! This warning can be ignored when running in bare mode.\n",
      "2024-12-07 12:03:35.697 Thread 'MainThread': missing ScriptRunContext! This warning can be ignored when running in bare mode.\n",
      "2024-12-07 12:03:35.698 Thread 'MainThread': missing ScriptRunContext! This warning can be ignored when running in bare mode.\n",
      "2024-12-07 12:03:35.699 Thread 'MainThread': missing ScriptRunContext! This warning can be ignored when running in bare mode.\n",
      "2024-12-07 12:03:35.699 Thread 'MainThread': missing ScriptRunContext! This warning can be ignored when running in bare mode.\n",
      "2024-12-07 12:03:35.700 Thread 'MainThread': missing ScriptRunContext! This warning can be ignored when running in bare mode.\n",
      "2024-12-07 12:03:35.700 Thread 'MainThread': missing ScriptRunContext! This warning can be ignored when running in bare mode.\n"
     ]
    }
   ],
   "source": [
    "# Main app logic\n",
    "def main():\n",
    "    # Navigation using a selectbox\n",
    "    page = st.sidebar.selectbox(\"\", [\"Home\", \"About\", \"History\"])\n",
    "\n",
    "    # Train the chatbot model\n",
    "    model, vectorizer, responses = train_model()\n",
    "\n",
    "    # Navigation logic\n",
    "    if page == \"Home\":\n",
    "        chat_page(model, vectorizer, responses)\n",
    "    elif page == \"About\":\n",
    "        about_page()\n",
    "    elif page == \"History\":\n",
    "        history_page()\n",
    "\n",
    "if __name__ == \"__main__\":\n",
    "    main()\n"
   ]
  }
 ],
 "metadata": {
  "kernelspec": {
   "display_name": "Myenv",
   "language": "python",
   "name": "python3"
  },
  "language_info": {
   "codemirror_mode": {
    "name": "ipython",
    "version": 3
   },
   "file_extension": ".py",
   "mimetype": "text/x-python",
   "name": "python",
   "nbconvert_exporter": "python",
   "pygments_lexer": "ipython3",
   "version": "3.13.1"
  }
 },
 "nbformat": 4,
 "nbformat_minor": 2
}
